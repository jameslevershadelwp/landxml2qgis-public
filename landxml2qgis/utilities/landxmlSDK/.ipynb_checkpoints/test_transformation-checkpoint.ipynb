{
 "cells": [
  {
   "cell_type": "code",
   "execution_count": 1,
   "metadata": {},
   "outputs": [],
   "source": [
    "import geopandas as gpd\n",
    "from utilities.landxmlSDK.geometryfunctions.transformationfunctions import helmert_trans_unknown, \\\n",
    "build_affine_transformer, transform_coordinates\n",
    "from utilities.landxmlSDK.geometryfunctions.otherfunctions import convert_r\n",
    "import shapely.geometry as sg\n",
    "import shapely.affinity as sa\n",
    "import geopandas as gpd"
   ]
  },
  {
   "cell_type": "code",
   "execution_count": 2,
   "metadata": {
    "pycharm": {
     "name": "#%%\n"
    }
   },
   "outputs": [
    {
     "data": {
      "text/plain": [
       "0    POLYGON ((268187.586 5774359.632, 268208.898 5...\n",
       "Name: geometry, dtype: geometry"
      ]
     },
     "execution_count": 2,
     "metadata": {},
     "output_type": "execute_result"
    }
   ],
   "source": [
    "target = gpd.read_file('/Users/jamesleversha/Downloads/TP870738A_full.geojson')\n",
    "target.geometry\n",
    "                       "
   ]
  },
  {
   "cell_type": "code",
   "execution_count": 3,
   "metadata": {},
   "outputs": [],
   "source": [
    "source = gpd.read_file('/Users/jamesleversha/Downloads/TP870738A.geojson')\n",
    "\n"
   ]
  },
  {
   "cell_type": "code",
   "execution_count": 4,
   "metadata": {},
   "outputs": [
    {
     "data": {
      "text/plain": [
       "'POINT (268208.2985346484 5774389.998905068)'"
      ]
     },
     "execution_count": 4,
     "metadata": {},
     "output_type": "execute_result"
    }
   ],
   "source": [
    "source2 = source.dissolve('diagram')\n",
    "source2.geometry[0].centroid.wkt\n",
    "target.geometry[0].centroid.wkt"
   ]
  },
  {
   "cell_type": "code",
   "execution_count": 5,
   "metadata": {},
   "outputs": [],
   "source": [
    "target_polygon = target.geometry[0]"
   ]
  },
  {
   "cell_type": "code",
   "execution_count": 6,
   "metadata": {},
   "outputs": [],
   "source": [
    "source_polygon = source2.geometry[0]"
   ]
  },
  {
   "cell_type": "code",
   "execution_count": 7,
   "metadata": {},
   "outputs": [
    {
     "data": {
      "image/svg+xml": [
       "<svg xmlns=\"http://www.w3.org/2000/svg\" xmlns:xlink=\"http://www.w3.org/1999/xlink\" width=\"100.0\" height=\"126.69932088255882\" viewBox=\"268182.8935399911 5774347.262705492 61.391434299061075 126.69932088255882\" preserveAspectRatio=\"xMinYMin meet\"><g transform=\"matrix(1,0,0,-1,0,11548821.224731866)\"><path fill-rule=\"evenodd\" fill=\"#66cc99\" stroke=\"#555555\" stroke-width=\"2.0\" opacity=\"0.6\" d=\"M 268187.5861074312,5774359.631518816 L 268208.8975641248,5774469.269458935 L 268211.8915270343,5774468.687491499 L 268203.0856918977,5774423.385396983 L 268239.5924068501,5774416.289210444 L 268238.7204097413,5774411.803174216 L 268202.2019704271,5774418.891452572 L 268192.8962157225,5774371.017494836 L 268229.402930675,5774363.921308298 L 268227.0769690213,5774351.955272932 L 268187.5861074312,5774359.631518816 z\" /></g></svg>"
      ],
      "text/plain": [
       "<shapely.geometry.polygon.Polygon at 0x7fdcc8564040>"
      ]
     },
     "execution_count": 7,
     "metadata": {},
     "output_type": "execute_result"
    }
   ],
   "source": [
    "target_polygon"
   ]
  },
  {
   "cell_type": "code",
   "execution_count": 8,
   "metadata": {},
   "outputs": [
    {
     "data": {
      "image/svg+xml": [
       "<svg xmlns=\"http://www.w3.org/2000/svg\" xmlns:xlink=\"http://www.w3.org/1999/xlink\" width=\"100.0\" height=\"124.15922244079411\" viewBox=\"268367.1088860068 5774389.210499093 51.86286720080534 124.15922244079411\" preserveAspectRatio=\"xMinYMin meet\"><g transform=\"matrix(1,0,0,-1,0,11548902.580220627)\"><path fill-rule=\"evenodd\" fill=\"#66cc99\" stroke=\"#555555\" stroke-width=\"2.0\" opacity=\"0.6\" d=\"M 268373.2427735333,5774408.972089354 L 268388.85290350416,5774408.137694447 L 268388.85222504433,5774407.980430492 L 268410.31050703285,5774405.9589127535 L 268409.3228592041,5774393.808988813 L 268371.70737572684,5774401.299758486 L 268374.16324009333,5774457.816624109 L 268377.4112324114,5774507.360524148 L 268381.4943645385,5774508.771231813 L 268378.1966593833,5774462.593407878 L 268398.41567163006,5774461.331739797 L 268399.4832715189,5774461.4505986385 L 268414.3732634876,5774460.260763883 L 268414.2726858943,5774454.577732553 L 268377.1941750596,5774457.58175224 L 268373.2427735333,5774408.972089354 z\" /></g></svg>"
      ],
      "text/plain": [
       "<shapely.geometry.polygon.Polygon at 0x7fdcc84fcd60>"
      ]
     },
     "execution_count": 8,
     "metadata": {},
     "output_type": "execute_result"
    }
   ],
   "source": [
    "source_polygon"
   ]
  },
  {
   "cell_type": "code",
   "execution_count": 9,
   "metadata": {
    "scrolled": false
   },
   "outputs": [
    {
     "name": "stdout",
     "output_type": "stream",
     "text": [
      "[1.0141447670376924, 0.11946131899917907, -0.11946131899917888, 1.0141447670376926, -693795.7637581135, -49656.1638037106]\n"
     ]
    }
   ],
   "source": [
    "mat = helmert_trans_unknown(source_polygon, target_polygon, None)\n",
    "print(mat)\n",
    "source['geometry'] = source.geometry.apply(lambda x: sa.affine_transform(x, mat))"
   ]
  },
  {
   "cell_type": "code",
   "execution_count": 10,
   "metadata": {},
   "outputs": [
    {
     "name": "stderr",
     "output_type": "stream",
     "text": [
      "<ipython-input-10-9a24775c3c97>:1: UserWarning: Column names longer than 10 characters will be truncated when saved to ESRI Shapefile.\n",
      "  source.to_file('/Users/jamesleversha/Downloads/TP870738A_out.shp')\n",
      "IllegalArgumentException: Geometry must be a Point or LineString\n",
      "IllegalArgumentException: Geometry must be a Point or LineString\n",
      "IllegalArgumentException: Geometry must be a Point or LineString\n",
      "IllegalArgumentException: Geometry must be a Point or LineString\n",
      "IllegalArgumentException: Geometry must be a Point or LineString\n",
      "IllegalArgumentException: Geometry must be a Point or LineString\n"
     ]
    }
   ],
   "source": [
    "source.to_file('/Users/jamesleversha/Downloads/TP870738A_out.shp')"
   ]
  },
  {
   "cell_type": "code",
   "execution_count": 11,
   "metadata": {},
   "outputs": [],
   "source": [
    "from utilities.landxmlSDK.dcmgeometry.polygons import PolygonGeom"
   ]
  },
  {
   "cell_type": "code",
   "execution_count": 12,
   "metadata": {},
   "outputs": [],
   "source": [
    "s = PolygonGeom()"
   ]
  },
  {
   "cell_type": "code",
   "execution_count": null,
   "metadata": {},
   "outputs": [],
   "source": []
  },
  {
   "cell_type": "code",
   "execution_count": null,
   "metadata": {},
   "outputs": [],
   "source": []
  }
 ],
 "metadata": {
  "kernelspec": {
   "display_name": "Python 3",
   "language": "python",
   "name": "python3"
  },
  "language_info": {
   "codemirror_mode": {
    "name": "ipython",
    "version": 3
   },
   "file_extension": ".py",
   "mimetype": "text/x-python",
   "name": "python",
   "nbconvert_exporter": "python",
   "pygments_lexer": "ipython3",
   "version": "3.8.8"
  }
 },
 "nbformat": 4,
 "nbformat_minor": 1
}
