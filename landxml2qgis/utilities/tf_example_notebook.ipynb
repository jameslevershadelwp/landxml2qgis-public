{
 "cells": [
  {
   "cell_type": "code",
   "execution_count": 1,
   "metadata": {},
   "outputs": [],
   "source": [
    "from utilities.landxmlSDK.landxml import landxml\n",
    "from utilities.landxmlSDK.dcmgeometry.geometry import Geometries\n",
    "from utilities.landxmlSDK.dcmgeometry.polygons import PolygonGeom\n",
    "from utilities.landxmlSDK.dcmgeometry.points import PointGeom\n",
    "from utilities.landxmlSDK.geometryfunctions.transformationfunctions import helmert_trans_unknown\n",
    "from utilities.landxmlSDK.geometryfunctions.bearingdistancefunctions import calc_distance, angle_differences, \\\n",
    "                                                                            process_angles, remove_stroked_curves\n",
    "from utilities.landxmlSDK.geometryfunctions.otherfunctions import previous_and_next\n",
    "\n",
    "import shapely.affinity as sa\n",
    "import shapely.ops as so\n",
    "import shapely.geometry as sg\n",
    "import geopandas as gpd\n",
    "import pandas as pd\n",
    "import psycopg2\n",
    "import boto3\n",
    "import os\n",
    "from pathlib import Path\n",
    "from copy import deepcopy"
   ]
  },
  {
   "cell_type": "code",
   "execution_count": 2,
   "metadata": {},
   "outputs": [],
   "source": [
    "def process_fetch(conn, sql, fall=True):\n",
    "    cur = conn.cursor()\n",
    "    cur.execute(sql)\n",
    "    if fall is False:\n",
    "        f = cur.fetchone()\n",
    "    else:\n",
    "        f = cur.fetchall()\n",
    "    return f\n",
    "\n",
    "def get_plan_location_from_spi(conn, spis):\n",
    "    spis = \"', '\".join(spis)\n",
    "    sql = f\"SELECT s.xml_bucket, s.working_folder, s.plan_number, esn.spi_name \\\n",
    "            FROM extracted_spi_names esn \\\n",
    "            LEFT JOIN ( \\\n",
    "            SELECT cpd.xml_bucket, cpd.working_folder, cp.plan_number, cp.ext_plan_id \\\n",
    "            FROM capturedplans cp \\\n",
    "            LEFT JOIN capturedplansdetails cpd \\\n",
    "            ON cpd.captured_plan_id = cp.id \\\n",
    "            WHERE cp.afr_version IS Null AND cp.retire_date is Null) AS s \\\n",
    "            ON esn.ext_plan_id = s.ext_plan_id \\\n",
    "            WHERE esn.spi_name in ('{spis}')\"\n",
    "    \n",
    "    xml_details = process_fetch(conn, sql)\n",
    "    \n",
    "    #conn.close()\n",
    "    \n",
    "    plan_details = {}\n",
    "    for item in xml_details:\n",
    "        bucket, location, plan_number, spiname = item\n",
    "        plan = plan_details.get(plan_number, {})\n",
    "        if len(plan) == 0:\n",
    "            plan['location'] = location\n",
    "            plan['bucket'] = bucket\n",
    "            plan['spis'] = [spiname]\n",
    "        else:\n",
    "            plan['spis'].append(spiname)\n",
    "        plan_details[plan_number] = plan\n",
    "    return plan_details\n",
    "    \n",
    "    "
   ]
  },
  {
   "cell_type": "code",
   "execution_count": 3,
   "metadata": {},
   "outputs": [],
   "source": [
    "session = boto3.Session(profile_name='work-prod')\n",
    "s3 = session.client('s3')"
   ]
  },
  {
   "cell_type": "code",
   "execution_count": 4,
   "metadata": {},
   "outputs": [],
   "source": [
    "out_xmls = '/Users/jamesleversha/Downloads/test_area_queenscliffe/test_files'"
   ]
  },
  {
   "cell_type": "code",
   "execution_count": 5,
   "metadata": {},
   "outputs": [],
   "source": [
    "lines = gpd.read_file('/Users/jamesleversha/Downloads/test_area_queenscliffe/test_area/vicmap_lines.shp')"
   ]
  },
  {
   "cell_type": "code",
   "execution_count": 6,
   "metadata": {},
   "outputs": [],
   "source": [
    "\n",
    "lines['len'] = lines.geometry.apply(lambda x: len(x.coords[:]))\n",
    "lines_reduced = lines.loc[lines.len > 2].copy()\n",
    "#lines_reduced['geometry'] = lines_reduced.loc[lines_reduced['PFI'] == '406231175'].geometry.apply(identify_curves)\n",
    "lines_reduced['geometry'] = lines_reduced.geometry.apply(remove_stroked_curves)\n",
    "\n",
    "\n",
    "lines_reduced.to_file('/Users/jamesleversha/Downloads/test_area_queenscliffe/test_area/vicmap_curves_removed.shp')\n",
    "\n"
   ]
  },
  {
   "cell_type": "code",
   "execution_count": 7,
   "metadata": {},
   "outputs": [
    {
     "name": "stderr",
     "output_type": "stream",
     "text": [
      "/Users/jamesleversha/opt/anaconda3/envs/DigitalCadastre/lib/python3.8/site-packages/geopandas/geodataframe.py:577: RuntimeWarning: Sequential read of iterator was interrupted. Resetting iterator. This can negatively impact the performance.\n",
      "  for feature in features_lst:\n"
     ]
    }
   ],
   "source": [
    "polygons = gpd.read_file('/Users/jamesleversha/Downloads/test_area_queenscliffe/test_area/queenscliffe_all_parcels.shp')\n",
    "points = gpd.read_file('/Users/jamesleversha/Downloads/queenscliffe.gpkg', layer='points')\n",
    "spi_field = 'SPI'\n",
    "#points = gpd.read_file('/Users/jamesleversha/Downloads/test_area_queenscliffe/test_area/points.shp')\n",
    "polygons.crs = 7844\n",
    "points.crs = 7844\n",
    "polygons = polygons.to_crs(7855)\n",
    "points = points.to_crs(7855)"
   ]
  },
  {
   "cell_type": "code",
   "execution_count": 8,
   "metadata": {},
   "outputs": [
    {
     "data": {
      "text/plain": [
       "(3437, 10)"
      ]
     },
     "execution_count": 8,
     "metadata": {},
     "output_type": "execute_result"
    }
   ],
   "source": [
    "polygons.shape"
   ]
  },
  {
   "cell_type": "code",
   "execution_count": 9,
   "metadata": {},
   "outputs": [],
   "source": [
    "host = 'dcm-reporting-prd.cedrlzhnersp.ap-southeast-2.rds.amazonaws.com'\n",
    "un = 'postgres'\n",
    "db = 'postgres'\n",
    "pw = '3x2bulGgdZ1xY'\n",
    "try:\n",
    "    conn = psycopg2.connect(database=db, user=un, password=pw, host=host)\n",
    "    spis = polygons.dropna(subset=[spi_field])[spi_field].tolist()\n",
    "    plan_details = get_plan_location_from_spi(conn, spis)\n",
    "    conn.close()\n",
    "finally:    \n",
    "    conn.close()"
   ]
  },
  {
   "cell_type": "code",
   "execution_count": 10,
   "metadata": {},
   "outputs": [],
   "source": [
    "def rubber_sheet(geom, polygon_source, polygon_target):\n",
    "    # set some thresholds\n",
    "    angle_threshold = 45\n",
    "    bearing_threshold = 30\n",
    "    distance_thresholds = [10, 5, 1]\n",
    "    distance_threshold = 10\n",
    "\n",
    "    for sp in polygon_source.polygon_points.get('all'):\n",
    "        # get all target points and stick them in a multipoint closest point lookup.\n",
    "        target_points = [polygon_target.point_lookup.get(p) for p in polygon_target.polygon_points.get('all')]\n",
    "\n",
    "        point_value = polygon_source.point_lookup.get(sp)\n",
    "        \n",
    "        x = True\n",
    "        if len(target_points) < 0:\n",
    "            x = False\n",
    "        while x is True:\n",
    "\n",
    "            sp_angle = polygon_source.inner_angles.get(sp)\n",
    "            # get nearest point\n",
    "            tps = sg.MultiPoint(target_points)\n",
    "\n",
    "            nearest = so.nearest_points(point_value, tps)\n",
    "            distance = calc_distance(*nearest)\n",
    "\n",
    "            tc = tuple(nearest[1].coords)[0]\n",
    "            tp = polygon_target.coord_lookup.get(tc)\n",
    "\n",
    "            tp_angle = polygon_target.inner_angles.get(tp)\n",
    "\n",
    "            # check opposite\n",
    "            z = True\n",
    "            #this should be source polygon\n",
    "            op_points = [polygon_source.point_lookup.get(p) for p in polygon_source.polygon_points.get('all')]\n",
    "            angle_value, to_value, from_value = angle_differences(tp_angle, sp_angle)\n",
    "            if (angle_value < angle_threshold and\n",
    "                    to_value < bearing_threshold and\n",
    "                    from_value < bearing_threshold and\n",
    "                    distance < distance_threshold):\n",
    "                while z is True:\n",
    "                    ops = sg.MultiPoint(op_points)\n",
    "                    op_nearest = so.nearest_points(nearest[1], ops)\n",
    "                    op_distance = calc_distance(*op_nearest)\n",
    "                    oc = tuple(op_nearest[1].coords)[0]\n",
    "                    op = polygon_source.coord_lookup.get(oc)\n",
    "\n",
    "                    if op == sp:\n",
    "                        opposite = True\n",
    "                        z = False\n",
    "                    else:\n",
    "                        # check opposite values\n",
    "                        op_angle = polygon_source.inner_angles.get(op)\n",
    "                        angle_value, to_value, from_value = angle_differences(op_angle, tp_angle)\n",
    "                        if (angle_value < angle_threshold and\n",
    "                                to_value < bearing_threshold and\n",
    "                                from_value < bearing_threshold and\n",
    "                                op_distance < distance_threshold and\n",
    "                                op_distance < distance):  # has to be closer than the other way even if under threshold\n",
    "\n",
    "                            op_points.pop(op_points.index(sg.Point(oc)))\n",
    "\n",
    "                        else:\n",
    "                            opposite = False\n",
    "                            z = False\n",
    "                            # if a point is closer but doesnt meet thresholds, check the next closest point.\n",
    "\n",
    "                    if len(op_points) == 0:\n",
    "                        z = False\n",
    "         \n",
    "                # set point value to new coordinate\n",
    "                if opposite is True:\n",
    "                    al_ass = geom.points[sp].associated_id\n",
    "                    all_ass_dist = geom.points[sp].associated_id\n",
    "                    if al_ass is None:                    \n",
    "                        geom.points[sp].set_new_geometry(nearest[1])\n",
    "                        geom.points[sp].set_associated_id(tp, distance)                                \n",
    "                    else:\n",
    "                        if distance < all_ass_dist:\n",
    "                            geom.points[sp].set_new_geometry(nearest[1])\n",
    "                            geom.points[sp].set_associated_id(tp, distance)\n",
    "                        \n",
    "                        \n",
    "                    # geom.points[sp] = point_value\n",
    "                    x = False\n",
    "                else:\n",
    "                    target_points.pop(target_points.index(sg.Point(tc)))\n",
    "            else:\n",
    "                target_points.pop(target_points.index(sg.Point(tc)))\n",
    "\n",
    "            if len(target_points) == 0:\n",
    "                # break loop if no close points are found\n",
    "                x = False\n",
    "    \n",
    "    return geom"
   ]
  },
  {
   "cell_type": "code",
   "execution_count": 11,
   "metadata": {},
   "outputs": [
    {
     "name": "stdout",
     "output_type": "stream",
     "text": [
      "PS317909B\n"
     ]
    }
   ],
   "source": [
    "final_frames = {}\n",
    "for plan_number, value in plan_details.items():\n",
    "    if plan_number in {'PS317909B'}:\n",
    "        print(plan_number)\n",
    "        bucket = value['bucket']\n",
    "        location = value['location']\n",
    "        outpath = Path(out_xmls, plan_number)\n",
    "        outpath.mkdir(exist_ok=True, parents=True)\n",
    "        outfile = Path(outpath, plan_number + '.xml')\n",
    "        if bucket is None or location is None:\n",
    "            print(plan_number, 'noloc')\n",
    "        elif outfile.exists() is False:\n",
    "            s3.download_file(bucket, str(Path(location, plan_number + '.xml')), str(outfile))\n",
    "        if outfile.exists():\n",
    "            data = landxml.parse(outfile, silence=True, print_warnings=False)\n",
    "            geom = Geometries(data)\n",
    "            geom.recalc_geometries(swing=True)\n",
    "            try:\n",
    "                for spiname in value['spis']:   \n",
    "                    target_geom = so.unary_union(polygons.loc[polygons[spi_field] == spiname]['geometry'].tolist()[0])\n",
    "                    if isinstance(target_geom, sg.Polygon):\n",
    "                        if len(target_geom.exterior.coords[:]) > 5:\n",
    "                            target_geom = remove_stroked_curves(target_geom)    \n",
    "\n",
    "                        polygon_target = PolygonGeom()\n",
    "                        point_target = points[points.intersects(target_geom.buffer(.1))]\n",
    "\n",
    "                        point_targets = {}\n",
    "                        for item in point_target.itertuples():\n",
    "                            point = PointGeom()\n",
    "                            point.geometry = item.geometry\n",
    "                            point.name = item.point_id\n",
    "                            point.oid = item.point_id\n",
    "                            point.crs = int(points.crs.to_authority()[1])\n",
    "                            point.round_geometry(decimals=4)\n",
    "                            point_targets[point.oid] = point\n",
    "\n",
    "                        polygon_target = PolygonGeom()\n",
    "                        polygon_target.create_polygon(target_geom, points=point_targets, name=spiname, \n",
    "                                                      crs=int(polygons.crs.to_authority()[1]), coord_decimals=4)\n",
    "\n",
    "                        \n",
    "                        polygon_source = geom.polygons.get(spiname, PolygonGeom())\n",
    "                        if isinstance(polygon_source.geometry, sg.Polygon):\n",
    "                            mat = helmert_trans_unknown(polygon_source, polygon_target)\n",
    "                            transform_geom = deepcopy(geom)\n",
    "                            transform_geom.apply_affine_transformation(mat=mat)            \n",
    "                            polygon_source = transform_geom.polygons.get(spiname)\n",
    "                            #geom = rubber_sheet(geom, polygon_source, polygon_target)\n",
    "                        else:\n",
    "                            print('source has not got a polygon', spiname, plan_number)\n",
    "                    else:\n",
    "                        print('target not a polygon', spiname, plan_number)\n",
    "\n",
    "                geom.update_geometries()\n",
    "                geom.write_geom_to_file(df_only=True)\n",
    "                for k, v in geom.dataframes.items():\n",
    "                    frames = final_frames.get(k, [])\n",
    "                    frames.append(v)\n",
    "                    final_frames[k] = frames\n",
    "            except Exception as err:\n",
    "                print(plan_number, err)\n",
    "            "
   ]
  },
  {
   "cell_type": "code",
   "execution_count": 12,
   "metadata": {},
   "outputs": [],
   "source": [
    "location='/Users/jamesleversha/Downloads/test_area_queenscliffe/test_files/all1.gpkg'"
   ]
  },
  {
   "cell_type": "code",
   "execution_count": 13,
   "metadata": {},
   "outputs": [
    {
     "name": "stderr",
     "output_type": "stream",
     "text": [
      "IllegalArgumentException: Geometry must be a Point or LineString\n",
      "IllegalArgumentException: Geometry must be a Point or LineString\n",
      "IllegalArgumentException: Geometry must be a Point or LineString\n",
      "IllegalArgumentException: Geometry must be a Point or LineString\n",
      "IllegalArgumentException: Geometry must be a Point or LineString\n",
      "IllegalArgumentException: Geometry must be a Point or LineString\n",
      "IllegalArgumentException: Geometry must be a Point or LineString\n",
      "IllegalArgumentException: Geometry must be a Point or LineString\n",
      "IllegalArgumentException: Geometry must be a Point or LineString\n",
      "IllegalArgumentException: Geometry must be a Point or LineString\n",
      "IllegalArgumentException: Geometry must be a Point or LineString\n",
      "IllegalArgumentException: Geometry must be a Point or LineString\n"
     ]
    }
   ],
   "source": [
    "for k, v in final_frames.items():\n",
    "    \n",
    "    frame = pd.concat(v)\n",
    "    frame = gpd.GeoDataFrame(frame.drop(columns=['geometry']), geometry=frame['geometry'], crs=7855)\n",
    "    frame.to_file(location, driver='GPKG', layer=k)"
   ]
  },
  {
   "cell_type": "code",
   "execution_count": 14,
   "metadata": {},
   "outputs": [
    {
     "data": {
      "image/svg+xml": [
       "<svg xmlns=\"http://www.w3.org/2000/svg\" xmlns:xlink=\"http://www.w3.org/1999/xlink\" width=\"100.0\" height=\"100.0\" viewBox=\"294271.01685019926 5761669.03317304 22.965248591732234 29.3634101646021\" preserveAspectRatio=\"xMinYMin meet\"><g transform=\"matrix(1,0,0,-1,0,11523367.429756243)\"><path fill-rule=\"evenodd\" fill=\"#66cc99\" stroke=\"#555555\" stroke-width=\"0.587268203292042\" opacity=\"0.6\" d=\"M 294272.1043839091,5761670.763792774 L 294273.04741510353,5761697.309049495 L 294284.04130907706,5761696.918486876 L 294283.8992863068,5761692.92070725 L 294287.5172768689,5761692.792176643 L 294289.43963642913,5761690.719113398 L 294289.2266022738,5761684.722443959 L 294292.89456508117,5761684.592138067 L 294292.3657088908,5761670.120706749 L 294272.1043839091,5761670.763792774 z\" /></g></svg>"
      ],
      "text/plain": [
       "<shapely.geometry.polygon.Polygon at 0x7f9549c8b040>"
      ]
     },
     "execution_count": 14,
     "metadata": {},
     "output_type": "execute_result"
    }
   ],
   "source": [
    "polygon_source.geometry"
   ]
  },
  {
   "cell_type": "code",
   "execution_count": 15,
   "metadata": {},
   "outputs": [
    {
     "data": {
      "text/plain": [
       "'/Users/jamesleversha/Downloads/test_area_queenscliffe/test_files/all1.gpkg'"
      ]
     },
     "execution_count": 15,
     "metadata": {},
     "output_type": "execute_result"
    }
   ],
   "source": [
    "location"
   ]
  },
  {
   "cell_type": "code",
   "execution_count": 16,
   "metadata": {},
   "outputs": [
    {
     "data": {
      "image/svg+xml": [
       "<svg xmlns=\"http://www.w3.org/2000/svg\" xmlns:xlink=\"http://www.w3.org/1999/xlink\" width=\"100.0\" height=\"100.0\" viewBox=\"294266.5694959099 5761696.213025031 18.728861292474903 27.119408309459686\" preserveAspectRatio=\"xMinYMin meet\"><g transform=\"matrix(1,0,0,-1,0,11523419.54545837)\"><path fill-rule=\"evenodd\" fill=\"#66cc99\" stroke=\"#555555\" stroke-width=\"0.5423881661891937\" opacity=\"0.6\" d=\"M 294269.71268153226,5761697.21744756 L 294267.5739184399,5761720.870950312 L 294283.68817841995,5761722.328010811 L 294284.27824854,5761711.253719986 L 294284.2900897837,5761710.957301749 L 294284.2939346724,5761710.660672008 L 294284.2897804104,5761710.364046438 L 294284.27763001836,5761710.067640712 L 294284.25749233057,5761709.7716703415 L 294284.2293819889,5761709.4763505235 L 294284.19331943186,5761709.181895979 L 294284.14933088014,5761708.888520803 L 294284.09744831716,5761708.5964383045 L 294284.03770946595,5761708.305860851 L 294283.97015776177,5761708.016999719 L 294283.8948423205,5761707.730064934 L 294283.8118179029,5761707.445265122 L 294283.7211448748,5761707.162807358 L 294283.6228891633,5761706.882897012 L 294283.5171222087,5761706.605737603 L 294283.40392091265,5761706.33153065 L 294283.2833675821,5761706.0604755245 L 294283.15554986964,5761705.792769307 L 294283.02056070976,5761705.528606643 L 294282.87849825114,5761705.268179601 L 294282.7294657852,5761705.011677533 L 294282.57357167144,5761704.759286939 L 294282.41092925816,5761704.511191329 L 294282.2416568003,5761704.267571089 L 294282.06587737345,5761704.028603351 L 294281.8837187843,5761703.794461866 L 294281.69531347766,5761703.5653168745 L 294281.5007984404,5761703.341334986 L 294281.3003151015,5761703.122679051 L 294281.0940092296,5761702.909508055 L 294280.8820308267,5761702.701976989 L 294280.66453401913,5761702.500236747 L 294280.44167694583,5761702.304434011 L 294280.30777533865,5761702.191780403 L 294280.66798807,5761698.208032572 L 294269.71268153226,5761697.21744756 z\" /></g></svg>"
      ],
      "text/plain": [
       "<shapely.geometry.polygon.Polygon at 0x7f953a77a340>"
      ]
     },
     "execution_count": 16,
     "metadata": {},
     "output_type": "execute_result"
    }
   ],
   "source": [
    "outfile = Path('/Users/jamesleversha/Downloads/test_area_queenscliffe/test_files/PS317909B/PS317909B.xml')\n",
    "data = landxml.parse(outfile, silence=True, print_warnings=False)\n",
    "geom = Geometries(data)\n",
    "geom.recalc_geometries()\n",
    "\n",
    "geom.polygons.get('1\\\\PS317909').geometry"
   ]
  },
  {
   "cell_type": "code",
   "execution_count": null,
   "metadata": {},
   "outputs": [],
   "source": []
  }
 ],
 "metadata": {
  "kernelspec": {
   "display_name": "Python 3",
   "language": "python",
   "name": "python3"
  },
  "language_info": {
   "codemirror_mode": {
    "name": "ipython",
    "version": 3
   },
   "file_extension": ".py",
   "mimetype": "text/x-python",
   "name": "python",
   "nbconvert_exporter": "python",
   "pygments_lexer": "ipython3",
   "version": "3.8.8"
  }
 },
 "nbformat": 4,
 "nbformat_minor": 1
}